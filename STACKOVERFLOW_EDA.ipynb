{
  "nbformat": 4,
  "nbformat_minor": 0,
  "metadata": {
    "colab": {
      "name": "Copy of STACKOVERFLOW.ipynb",
      "provenance": [],
      "authorship_tag": "ABX9TyPtUSboEBv44vuK4+5SjHWz",
      "include_colab_link": true
    },
    "kernelspec": {
      "name": "python3",
      "display_name": "Python 3"
    },
    "language_info": {
      "name": "python"
    }
  },
  "cells": [
    {
      "cell_type": "markdown",
      "metadata": {
        "id": "view-in-github",
        "colab_type": "text"
      },
      "source": [
        "<a href=\"https://colab.research.google.com/github/xd932/EDA/blob/main/STACKOVERFLOW_EDA.ipynb\" target=\"_parent\"><img src=\"https://colab.research.google.com/assets/colab-badge.svg\" alt=\"Open In Colab\"/></a>"
      ]
    },
    {
      "cell_type": "code",
      "execution_count": null,
      "metadata": {
        "id": "fxPboVJloSwm"
      },
      "outputs": [],
      "source": [
        "import pandas as pd\n",
        "import matplotlib.pyplot as plt\n",
        "import seaborn as sns\n",
        "import numpy as np"
      ]
    },
    {
      "cell_type": "code",
      "source": [
        "df=pd.read_csv(\"/content/survey_results_public.csv\")"
      ],
      "metadata": {
        "id": "wvFZfDAtrwwv"
      },
      "execution_count": null,
      "outputs": []
    },
    {
      "cell_type": "code",
      "source": [
        "df['Country'].mask(df['Country'] == 'United Kingdom of Great Britain and Northern Ireland','UK', inplace=True)\n",
        "\n",
        "\n",
        "##USE MASK INSTEAD OF REPLACE\n",
        "#MASK CARY WITH CHANGES IN NEXT CELL ,REPLACE DOES NOT\n",
        "\n",
        "df['Country'].mask(df['Country'] == 'United States of America','USA', inplace=True)"
      ],
      "metadata": {
        "id": "nk817jMIpWGn"
      },
      "execution_count": null,
      "outputs": []
    },
    {
      "cell_type": "code",
      "source": [
        "df.head()"
      ],
      "metadata": {
        "colab": {
          "base_uri": "https://localhost:8080/",
          "height": 721
        },
        "id": "lz9MqIBIr142",
        "outputId": "0e1e943e-abd1-4e29-fd57-022bd31c19f6"
      },
      "execution_count": null,
      "outputs": [
        {
          "output_type": "execute_result",
          "data": {
            "text/html": [
              "\n",
              "  <div id=\"df-d6c8ccfe-86c6-40f5-8015-c19f8e6663ef\">\n",
              "    <div class=\"colab-df-container\">\n",
              "      <div>\n",
              "<style scoped>\n",
              "    .dataframe tbody tr th:only-of-type {\n",
              "        vertical-align: middle;\n",
              "    }\n",
              "\n",
              "    .dataframe tbody tr th {\n",
              "        vertical-align: top;\n",
              "    }\n",
              "\n",
              "    .dataframe thead th {\n",
              "        text-align: right;\n",
              "    }\n",
              "</style>\n",
              "<table border=\"1\" class=\"dataframe\">\n",
              "  <thead>\n",
              "    <tr style=\"text-align: right;\">\n",
              "      <th></th>\n",
              "      <th>ResponseId</th>\n",
              "      <th>MainBranch</th>\n",
              "      <th>Employment</th>\n",
              "      <th>Country</th>\n",
              "      <th>US_State</th>\n",
              "      <th>UK_Country</th>\n",
              "      <th>EdLevel</th>\n",
              "      <th>Age1stCode</th>\n",
              "      <th>LearnCode</th>\n",
              "      <th>YearsCode</th>\n",
              "      <th>YearsCodePro</th>\n",
              "      <th>DevType</th>\n",
              "      <th>OrgSize</th>\n",
              "      <th>Currency</th>\n",
              "      <th>CompTotal</th>\n",
              "      <th>CompFreq</th>\n",
              "      <th>LanguageHaveWorkedWith</th>\n",
              "      <th>LanguageWantToWorkWith</th>\n",
              "      <th>DatabaseHaveWorkedWith</th>\n",
              "      <th>DatabaseWantToWorkWith</th>\n",
              "      <th>PlatformHaveWorkedWith</th>\n",
              "      <th>PlatformWantToWorkWith</th>\n",
              "      <th>WebframeHaveWorkedWith</th>\n",
              "      <th>WebframeWantToWorkWith</th>\n",
              "      <th>MiscTechHaveWorkedWith</th>\n",
              "      <th>MiscTechWantToWorkWith</th>\n",
              "      <th>ToolsTechHaveWorkedWith</th>\n",
              "      <th>ToolsTechWantToWorkWith</th>\n",
              "      <th>NEWCollabToolsHaveWorkedWith</th>\n",
              "      <th>NEWCollabToolsWantToWorkWith</th>\n",
              "      <th>OpSys</th>\n",
              "      <th>NEWStuck</th>\n",
              "      <th>NEWSOSites</th>\n",
              "      <th>SOVisitFreq</th>\n",
              "      <th>SOAccount</th>\n",
              "      <th>SOPartFreq</th>\n",
              "      <th>SOComm</th>\n",
              "      <th>NEWOtherComms</th>\n",
              "      <th>Age</th>\n",
              "      <th>Gender</th>\n",
              "      <th>Trans</th>\n",
              "      <th>Sexuality</th>\n",
              "      <th>Ethnicity</th>\n",
              "      <th>Accessibility</th>\n",
              "      <th>MentalHealth</th>\n",
              "      <th>SurveyLength</th>\n",
              "      <th>SurveyEase</th>\n",
              "      <th>ConvertedCompYearly</th>\n",
              "    </tr>\n",
              "  </thead>\n",
              "  <tbody>\n",
              "    <tr>\n",
              "      <th>0</th>\n",
              "      <td>1</td>\n",
              "      <td>I am a developer by profession</td>\n",
              "      <td>Independent contractor, freelancer, or self-em...</td>\n",
              "      <td>Slovakia</td>\n",
              "      <td>NaN</td>\n",
              "      <td>NaN</td>\n",
              "      <td>Secondary school (e.g. American high school, G...</td>\n",
              "      <td>18 - 24 years</td>\n",
              "      <td>Coding Bootcamp;Other online resources (ex: vi...</td>\n",
              "      <td>NaN</td>\n",
              "      <td>NaN</td>\n",
              "      <td>Developer, mobile</td>\n",
              "      <td>20 to 99 employees</td>\n",
              "      <td>EUR European Euro</td>\n",
              "      <td>4800.0</td>\n",
              "      <td>Monthly</td>\n",
              "      <td>C++;HTML/CSS;JavaScript;Objective-C;PHP;Swift</td>\n",
              "      <td>Swift</td>\n",
              "      <td>PostgreSQL;SQLite</td>\n",
              "      <td>SQLite</td>\n",
              "      <td>NaN</td>\n",
              "      <td>NaN</td>\n",
              "      <td>Laravel;Symfony</td>\n",
              "      <td>NaN</td>\n",
              "      <td>NaN</td>\n",
              "      <td>NaN</td>\n",
              "      <td>NaN</td>\n",
              "      <td>NaN</td>\n",
              "      <td>PHPStorm;Xcode</td>\n",
              "      <td>Atom;Xcode</td>\n",
              "      <td>MacOS</td>\n",
              "      <td>Call a coworker or friend;Visit Stack Overflow...</td>\n",
              "      <td>Stack Overflow</td>\n",
              "      <td>Multiple times per day</td>\n",
              "      <td>Yes</td>\n",
              "      <td>A few times per month or weekly</td>\n",
              "      <td>Yes, definitely</td>\n",
              "      <td>No</td>\n",
              "      <td>25-34 years old</td>\n",
              "      <td>Man</td>\n",
              "      <td>No</td>\n",
              "      <td>Straight / Heterosexual</td>\n",
              "      <td>White or of European descent</td>\n",
              "      <td>None of the above</td>\n",
              "      <td>None of the above</td>\n",
              "      <td>Appropriate in length</td>\n",
              "      <td>Easy</td>\n",
              "      <td>62268.0</td>\n",
              "    </tr>\n",
              "    <tr>\n",
              "      <th>1</th>\n",
              "      <td>2</td>\n",
              "      <td>I am a student who is learning to code</td>\n",
              "      <td>Student, full-time</td>\n",
              "      <td>Netherlands</td>\n",
              "      <td>NaN</td>\n",
              "      <td>NaN</td>\n",
              "      <td>Bachelor’s degree (B.A., B.S., B.Eng., etc.)</td>\n",
              "      <td>11 - 17 years</td>\n",
              "      <td>Other online resources (ex: videos, blogs, etc...</td>\n",
              "      <td>7</td>\n",
              "      <td>NaN</td>\n",
              "      <td>NaN</td>\n",
              "      <td>NaN</td>\n",
              "      <td>NaN</td>\n",
              "      <td>NaN</td>\n",
              "      <td>NaN</td>\n",
              "      <td>JavaScript;Python</td>\n",
              "      <td>NaN</td>\n",
              "      <td>PostgreSQL</td>\n",
              "      <td>NaN</td>\n",
              "      <td>NaN</td>\n",
              "      <td>NaN</td>\n",
              "      <td>Angular;Flask;Vue.js</td>\n",
              "      <td>NaN</td>\n",
              "      <td>Cordova</td>\n",
              "      <td>NaN</td>\n",
              "      <td>Docker;Git;Yarn</td>\n",
              "      <td>Git</td>\n",
              "      <td>Android Studio;IntelliJ;Notepad++;PyCharm</td>\n",
              "      <td>NaN</td>\n",
              "      <td>Windows</td>\n",
              "      <td>Visit Stack Overflow;Google it</td>\n",
              "      <td>Stack Overflow</td>\n",
              "      <td>Daily or almost daily</td>\n",
              "      <td>Yes</td>\n",
              "      <td>Daily or almost daily</td>\n",
              "      <td>Yes, definitely</td>\n",
              "      <td>No</td>\n",
              "      <td>18-24 years old</td>\n",
              "      <td>Man</td>\n",
              "      <td>No</td>\n",
              "      <td>Straight / Heterosexual</td>\n",
              "      <td>White or of European descent</td>\n",
              "      <td>None of the above</td>\n",
              "      <td>None of the above</td>\n",
              "      <td>Appropriate in length</td>\n",
              "      <td>Easy</td>\n",
              "      <td>NaN</td>\n",
              "    </tr>\n",
              "    <tr>\n",
              "      <th>2</th>\n",
              "      <td>3</td>\n",
              "      <td>I am not primarily a developer, but I write co...</td>\n",
              "      <td>Student, full-time</td>\n",
              "      <td>Russian Federation</td>\n",
              "      <td>NaN</td>\n",
              "      <td>NaN</td>\n",
              "      <td>Bachelor’s degree (B.A., B.S., B.Eng., etc.)</td>\n",
              "      <td>11 - 17 years</td>\n",
              "      <td>Other online resources (ex: videos, blogs, etc...</td>\n",
              "      <td>NaN</td>\n",
              "      <td>NaN</td>\n",
              "      <td>NaN</td>\n",
              "      <td>NaN</td>\n",
              "      <td>NaN</td>\n",
              "      <td>NaN</td>\n",
              "      <td>NaN</td>\n",
              "      <td>Assembly;C;Python;R;Rust</td>\n",
              "      <td>Julia;Python;Rust</td>\n",
              "      <td>SQLite</td>\n",
              "      <td>SQLite</td>\n",
              "      <td>Heroku</td>\n",
              "      <td>NaN</td>\n",
              "      <td>Flask</td>\n",
              "      <td>Flask</td>\n",
              "      <td>NumPy;Pandas;TensorFlow;Torch/PyTorch</td>\n",
              "      <td>Keras;NumPy;Pandas;TensorFlow;Torch/PyTorch</td>\n",
              "      <td>NaN</td>\n",
              "      <td>NaN</td>\n",
              "      <td>IPython/Jupyter;PyCharm;RStudio;Sublime Text;V...</td>\n",
              "      <td>IPython/Jupyter;RStudio;Sublime Text;Visual St...</td>\n",
              "      <td>MacOS</td>\n",
              "      <td>Visit Stack Overflow;Google it;Watch help / tu...</td>\n",
              "      <td>Stack Overflow;Stack Exchange</td>\n",
              "      <td>Multiple times per day</td>\n",
              "      <td>Yes</td>\n",
              "      <td>Multiple times per day</td>\n",
              "      <td>Yes, definitely</td>\n",
              "      <td>Yes</td>\n",
              "      <td>18-24 years old</td>\n",
              "      <td>Man</td>\n",
              "      <td>No</td>\n",
              "      <td>Prefer not to say</td>\n",
              "      <td>Prefer not to say</td>\n",
              "      <td>None of the above</td>\n",
              "      <td>None of the above</td>\n",
              "      <td>Appropriate in length</td>\n",
              "      <td>Easy</td>\n",
              "      <td>NaN</td>\n",
              "    </tr>\n",
              "    <tr>\n",
              "      <th>3</th>\n",
              "      <td>4</td>\n",
              "      <td>I am a developer by profession</td>\n",
              "      <td>Employed full-time</td>\n",
              "      <td>Austria</td>\n",
              "      <td>NaN</td>\n",
              "      <td>NaN</td>\n",
              "      <td>Master’s degree (M.A., M.S., M.Eng., MBA, etc.)</td>\n",
              "      <td>11 - 17 years</td>\n",
              "      <td>NaN</td>\n",
              "      <td>NaN</td>\n",
              "      <td>NaN</td>\n",
              "      <td>Developer, front-end</td>\n",
              "      <td>100 to 499 employees</td>\n",
              "      <td>EUR European Euro</td>\n",
              "      <td>NaN</td>\n",
              "      <td>Monthly</td>\n",
              "      <td>JavaScript;TypeScript</td>\n",
              "      <td>JavaScript;TypeScript</td>\n",
              "      <td>NaN</td>\n",
              "      <td>NaN</td>\n",
              "      <td>NaN</td>\n",
              "      <td>NaN</td>\n",
              "      <td>Angular;jQuery</td>\n",
              "      <td>Angular;jQuery</td>\n",
              "      <td>NaN</td>\n",
              "      <td>NaN</td>\n",
              "      <td>NaN</td>\n",
              "      <td>NaN</td>\n",
              "      <td>NaN</td>\n",
              "      <td>NaN</td>\n",
              "      <td>Windows</td>\n",
              "      <td>Call a coworker or friend;Visit Stack Overflow...</td>\n",
              "      <td>Stack Overflow</td>\n",
              "      <td>Daily or almost daily</td>\n",
              "      <td>Yes</td>\n",
              "      <td>Daily or almost daily</td>\n",
              "      <td>Neutral</td>\n",
              "      <td>No</td>\n",
              "      <td>35-44 years old</td>\n",
              "      <td>Man</td>\n",
              "      <td>No</td>\n",
              "      <td>Straight / Heterosexual</td>\n",
              "      <td>White or of European descent</td>\n",
              "      <td>I am deaf / hard of hearing</td>\n",
              "      <td>NaN</td>\n",
              "      <td>Appropriate in length</td>\n",
              "      <td>Neither easy nor difficult</td>\n",
              "      <td>NaN</td>\n",
              "    </tr>\n",
              "    <tr>\n",
              "      <th>4</th>\n",
              "      <td>5</td>\n",
              "      <td>I am a developer by profession</td>\n",
              "      <td>Independent contractor, freelancer, or self-em...</td>\n",
              "      <td>UK</td>\n",
              "      <td>NaN</td>\n",
              "      <td>England</td>\n",
              "      <td>Master’s degree (M.A., M.S., M.Eng., MBA, etc.)</td>\n",
              "      <td>5 - 10 years</td>\n",
              "      <td>Friend or family member</td>\n",
              "      <td>17</td>\n",
              "      <td>10</td>\n",
              "      <td>Developer, desktop or enterprise applications;...</td>\n",
              "      <td>Just me - I am a freelancer, sole proprietor, ...</td>\n",
              "      <td>GBP\\tPound sterling</td>\n",
              "      <td>NaN</td>\n",
              "      <td>NaN</td>\n",
              "      <td>Bash/Shell;HTML/CSS;Python;SQL</td>\n",
              "      <td>Bash/Shell;HTML/CSS;Python;SQL</td>\n",
              "      <td>Elasticsearch;PostgreSQL;Redis</td>\n",
              "      <td>Cassandra;Elasticsearch;PostgreSQL;Redis</td>\n",
              "      <td>NaN</td>\n",
              "      <td>NaN</td>\n",
              "      <td>Flask</td>\n",
              "      <td>Flask</td>\n",
              "      <td>Apache Spark;Hadoop;NumPy;Pandas</td>\n",
              "      <td>Hadoop;NumPy;Pandas</td>\n",
              "      <td>Docker;Git;Kubernetes;Yarn</td>\n",
              "      <td>Docker;Git;Kubernetes;Yarn</td>\n",
              "      <td>Atom;IPython/Jupyter;Notepad++;PyCharm;Vim</td>\n",
              "      <td>Atom;IPython/Jupyter;Notepad++;PyCharm;Vim;Vis...</td>\n",
              "      <td>Linux-based</td>\n",
              "      <td>Visit Stack Overflow;Go for a walk or other ph...</td>\n",
              "      <td>Stack Overflow;Stack Exchange</td>\n",
              "      <td>Daily or almost daily</td>\n",
              "      <td>Yes</td>\n",
              "      <td>A few times per week</td>\n",
              "      <td>Yes, somewhat</td>\n",
              "      <td>No</td>\n",
              "      <td>25-34 years old</td>\n",
              "      <td>Man</td>\n",
              "      <td>No</td>\n",
              "      <td>NaN</td>\n",
              "      <td>White or of European descent</td>\n",
              "      <td>None of the above</td>\n",
              "      <td>NaN</td>\n",
              "      <td>Appropriate in length</td>\n",
              "      <td>Easy</td>\n",
              "      <td>NaN</td>\n",
              "    </tr>\n",
              "  </tbody>\n",
              "</table>\n",
              "</div>\n",
              "      <button class=\"colab-df-convert\" onclick=\"convertToInteractive('df-d6c8ccfe-86c6-40f5-8015-c19f8e6663ef')\"\n",
              "              title=\"Convert this dataframe to an interactive table.\"\n",
              "              style=\"display:none;\">\n",
              "        \n",
              "  <svg xmlns=\"http://www.w3.org/2000/svg\" height=\"24px\"viewBox=\"0 0 24 24\"\n",
              "       width=\"24px\">\n",
              "    <path d=\"M0 0h24v24H0V0z\" fill=\"none\"/>\n",
              "    <path d=\"M18.56 5.44l.94 2.06.94-2.06 2.06-.94-2.06-.94-.94-2.06-.94 2.06-2.06.94zm-11 1L8.5 8.5l.94-2.06 2.06-.94-2.06-.94L8.5 2.5l-.94 2.06-2.06.94zm10 10l.94 2.06.94-2.06 2.06-.94-2.06-.94-.94-2.06-.94 2.06-2.06.94z\"/><path d=\"M17.41 7.96l-1.37-1.37c-.4-.4-.92-.59-1.43-.59-.52 0-1.04.2-1.43.59L10.3 9.45l-7.72 7.72c-.78.78-.78 2.05 0 2.83L4 21.41c.39.39.9.59 1.41.59.51 0 1.02-.2 1.41-.59l7.78-7.78 2.81-2.81c.8-.78.8-2.07 0-2.86zM5.41 20L4 18.59l7.72-7.72 1.47 1.35L5.41 20z\"/>\n",
              "  </svg>\n",
              "      </button>\n",
              "      \n",
              "  <style>\n",
              "    .colab-df-container {\n",
              "      display:flex;\n",
              "      flex-wrap:wrap;\n",
              "      gap: 12px;\n",
              "    }\n",
              "\n",
              "    .colab-df-convert {\n",
              "      background-color: #E8F0FE;\n",
              "      border: none;\n",
              "      border-radius: 50%;\n",
              "      cursor: pointer;\n",
              "      display: none;\n",
              "      fill: #1967D2;\n",
              "      height: 32px;\n",
              "      padding: 0 0 0 0;\n",
              "      width: 32px;\n",
              "    }\n",
              "\n",
              "    .colab-df-convert:hover {\n",
              "      background-color: #E2EBFA;\n",
              "      box-shadow: 0px 1px 2px rgba(60, 64, 67, 0.3), 0px 1px 3px 1px rgba(60, 64, 67, 0.15);\n",
              "      fill: #174EA6;\n",
              "    }\n",
              "\n",
              "    [theme=dark] .colab-df-convert {\n",
              "      background-color: #3B4455;\n",
              "      fill: #D2E3FC;\n",
              "    }\n",
              "\n",
              "    [theme=dark] .colab-df-convert:hover {\n",
              "      background-color: #434B5C;\n",
              "      box-shadow: 0px 1px 3px 1px rgba(0, 0, 0, 0.15);\n",
              "      filter: drop-shadow(0px 1px 2px rgba(0, 0, 0, 0.3));\n",
              "      fill: #FFFFFF;\n",
              "    }\n",
              "  </style>\n",
              "\n",
              "      <script>\n",
              "        const buttonEl =\n",
              "          document.querySelector('#df-d6c8ccfe-86c6-40f5-8015-c19f8e6663ef button.colab-df-convert');\n",
              "        buttonEl.style.display =\n",
              "          google.colab.kernel.accessAllowed ? 'block' : 'none';\n",
              "\n",
              "        async function convertToInteractive(key) {\n",
              "          const element = document.querySelector('#df-d6c8ccfe-86c6-40f5-8015-c19f8e6663ef');\n",
              "          const dataTable =\n",
              "            await google.colab.kernel.invokeFunction('convertToInteractive',\n",
              "                                                     [key], {});\n",
              "          if (!dataTable) return;\n",
              "\n",
              "          const docLinkHtml = 'Like what you see? Visit the ' +\n",
              "            '<a target=\"_blank\" href=https://colab.research.google.com/notebooks/data_table.ipynb>data table notebook</a>'\n",
              "            + ' to learn more about interactive tables.';\n",
              "          element.innerHTML = '';\n",
              "          dataTable['output_type'] = 'display_data';\n",
              "          await google.colab.output.renderOutput(dataTable, element);\n",
              "          const docLink = document.createElement('div');\n",
              "          docLink.innerHTML = docLinkHtml;\n",
              "          element.appendChild(docLink);\n",
              "        }\n",
              "      </script>\n",
              "    </div>\n",
              "  </div>\n",
              "  "
            ],
            "text/plain": [
              "   ResponseId  ... ConvertedCompYearly\n",
              "0           1  ...             62268.0\n",
              "1           2  ...                 NaN\n",
              "2           3  ...                 NaN\n",
              "3           4  ...                 NaN\n",
              "4           5  ...                 NaN\n",
              "\n",
              "[5 rows x 48 columns]"
            ]
          },
          "metadata": {},
          "execution_count": 200
        }
      ]
    },
    {
      "cell_type": "code",
      "source": [
        "df.shape"
      ],
      "metadata": {
        "colab": {
          "base_uri": "https://localhost:8080/"
        },
        "id": "FzlFkA9Ar6ha",
        "outputId": "f48aaf68-95b2-410b-976d-7461fcc0eb37"
      },
      "execution_count": null,
      "outputs": [
        {
          "output_type": "execute_result",
          "data": {
            "text/plain": [
              "(65648, 48)"
            ]
          },
          "metadata": {},
          "execution_count": 201
        }
      ]
    },
    {
      "cell_type": "code",
      "source": [
        "df.info()"
      ],
      "metadata": {
        "colab": {
          "base_uri": "https://localhost:8080/"
        },
        "id": "Niefd0n3r-w6",
        "outputId": "e9a740e8-d9d0-4294-fa78-4d2b02706576"
      },
      "execution_count": null,
      "outputs": [
        {
          "output_type": "stream",
          "name": "stdout",
          "text": [
            "<class 'pandas.core.frame.DataFrame'>\n",
            "RangeIndex: 65648 entries, 0 to 65647\n",
            "Data columns (total 48 columns):\n",
            " #   Column                        Non-Null Count  Dtype  \n",
            "---  ------                        --------------  -----  \n",
            " 0   ResponseId                    65648 non-null  int64  \n",
            " 1   MainBranch                    65648 non-null  object \n",
            " 2   Employment                    65566 non-null  object \n",
            " 3   Country                       65648 non-null  object \n",
            " 4   US_State                      11647 non-null  object \n",
            " 5   UK_Country                    3501 non-null   object \n",
            " 6   EdLevel                       65408 non-null  object \n",
            " 7   Age1stCode                    65523 non-null  object \n",
            " 8   LearnCode                     65247 non-null  object \n",
            " 9   YearsCode                     64021 non-null  object \n",
            " 10  YearsCodePro                  49033 non-null  object \n",
            " 11  DevType                       53085 non-null  object \n",
            " 12  OrgSize                       48738 non-null  object \n",
            " 13  Currency                      49006 non-null  object \n",
            " 14  CompTotal                     37964 non-null  float64\n",
            " 15  CompFreq                      41988 non-null  object \n",
            " 16  LanguageHaveWorkedWith        64874 non-null  object \n",
            " 17  LanguageWantToWorkWith        60624 non-null  object \n",
            " 18  DatabaseHaveWorkedWith        55159 non-null  object \n",
            " 19  DatabaseWantToWorkWith        46392 non-null  object \n",
            " 20  PlatformHaveWorkedWith        41490 non-null  object \n",
            " 21  PlatformWantToWorkWith        33163 non-null  object \n",
            " 22  WebframeHaveWorkedWith        49005 non-null  object \n",
            " 23  WebframeWantToWorkWith        41394 non-null  object \n",
            " 24  MiscTechHaveWorkedWith        37121 non-null  object \n",
            " 25  MiscTechWantToWorkWith        30050 non-null  object \n",
            " 26  ToolsTechHaveWorkedWith       57524 non-null  object \n",
            " 27  ToolsTechWantToWorkWith       52083 non-null  object \n",
            " 28  NEWCollabToolsHaveWorkedWith  64015 non-null  object \n",
            " 29  NEWCollabToolsWantToWorkWith  57661 non-null  object \n",
            " 30  OpSys                         65551 non-null  object \n",
            " 31  NEWStuck                      65371 non-null  object \n",
            " 32  NEWSOSites                    65458 non-null  object \n",
            " 33  SOVisitFreq                   64963 non-null  object \n",
            " 34  SOAccount                     65037 non-null  object \n",
            " 35  SOPartFreq                    54121 non-null  object \n",
            " 36  SOComm                        64862 non-null  object \n",
            " 37  NEWOtherComms                 65193 non-null  object \n",
            " 38  Age                           64881 non-null  object \n",
            " 39  Gender                        64764 non-null  object \n",
            " 40  Trans                         63566 non-null  object \n",
            " 41  Sexuality                     57857 non-null  object \n",
            " 42  Ethnicity                     62565 non-null  object \n",
            " 43  Accessibility                 61065 non-null  object \n",
            " 44  MentalHealth                  60511 non-null  object \n",
            " 45  SurveyLength                  64348 non-null  object \n",
            " 46  SurveyEase                    64528 non-null  object \n",
            " 47  ConvertedCompYearly           37703 non-null  float64\n",
            "dtypes: float64(2), int64(1), object(45)\n",
            "memory usage: 24.0+ MB\n"
          ]
        }
      ]
    },
    {
      "cell_type": "code",
      "source": [
        "df.drop(['Trans','Sexuality','SurveyEase','SurveyLength','Accessibility'],axis=1);"
      ],
      "metadata": {
        "id": "aXMA5pUzsE_p"
      },
      "execution_count": null,
      "outputs": []
    },
    {
      "cell_type": "code",
      "source": [
        "df.info()"
      ],
      "metadata": {
        "colab": {
          "base_uri": "https://localhost:8080/"
        },
        "id": "CFK16nsHs806",
        "outputId": "969fd40c-6724-4dee-97fd-199e28005c0f"
      },
      "execution_count": null,
      "outputs": [
        {
          "output_type": "stream",
          "name": "stdout",
          "text": [
            "<class 'pandas.core.frame.DataFrame'>\n",
            "RangeIndex: 65648 entries, 0 to 65647\n",
            "Data columns (total 48 columns):\n",
            " #   Column                        Non-Null Count  Dtype  \n",
            "---  ------                        --------------  -----  \n",
            " 0   ResponseId                    65648 non-null  int64  \n",
            " 1   MainBranch                    65648 non-null  object \n",
            " 2   Employment                    65566 non-null  object \n",
            " 3   Country                       65648 non-null  object \n",
            " 4   US_State                      11647 non-null  object \n",
            " 5   UK_Country                    3501 non-null   object \n",
            " 6   EdLevel                       65408 non-null  object \n",
            " 7   Age1stCode                    65523 non-null  object \n",
            " 8   LearnCode                     65247 non-null  object \n",
            " 9   YearsCode                     64021 non-null  object \n",
            " 10  YearsCodePro                  49033 non-null  object \n",
            " 11  DevType                       53085 non-null  object \n",
            " 12  OrgSize                       48738 non-null  object \n",
            " 13  Currency                      49006 non-null  object \n",
            " 14  CompTotal                     37964 non-null  float64\n",
            " 15  CompFreq                      41988 non-null  object \n",
            " 16  LanguageHaveWorkedWith        64874 non-null  object \n",
            " 17  LanguageWantToWorkWith        60624 non-null  object \n",
            " 18  DatabaseHaveWorkedWith        55159 non-null  object \n",
            " 19  DatabaseWantToWorkWith        46392 non-null  object \n",
            " 20  PlatformHaveWorkedWith        41490 non-null  object \n",
            " 21  PlatformWantToWorkWith        33163 non-null  object \n",
            " 22  WebframeHaveWorkedWith        49005 non-null  object \n",
            " 23  WebframeWantToWorkWith        41394 non-null  object \n",
            " 24  MiscTechHaveWorkedWith        37121 non-null  object \n",
            " 25  MiscTechWantToWorkWith        30050 non-null  object \n",
            " 26  ToolsTechHaveWorkedWith       57524 non-null  object \n",
            " 27  ToolsTechWantToWorkWith       52083 non-null  object \n",
            " 28  NEWCollabToolsHaveWorkedWith  64015 non-null  object \n",
            " 29  NEWCollabToolsWantToWorkWith  57661 non-null  object \n",
            " 30  OpSys                         65551 non-null  object \n",
            " 31  NEWStuck                      65371 non-null  object \n",
            " 32  NEWSOSites                    65458 non-null  object \n",
            " 33  SOVisitFreq                   64963 non-null  object \n",
            " 34  SOAccount                     65037 non-null  object \n",
            " 35  SOPartFreq                    54121 non-null  object \n",
            " 36  SOComm                        64862 non-null  object \n",
            " 37  NEWOtherComms                 65193 non-null  object \n",
            " 38  Age                           64881 non-null  object \n",
            " 39  Gender                        64764 non-null  object \n",
            " 40  Trans                         63566 non-null  object \n",
            " 41  Sexuality                     57857 non-null  object \n",
            " 42  Ethnicity                     62565 non-null  object \n",
            " 43  Accessibility                 61065 non-null  object \n",
            " 44  MentalHealth                  60511 non-null  object \n",
            " 45  SurveyLength                  64348 non-null  object \n",
            " 46  SurveyEase                    64528 non-null  object \n",
            " 47  ConvertedCompYearly           37703 non-null  float64\n",
            "dtypes: float64(2), int64(1), object(45)\n",
            "memory usage: 24.0+ MB\n"
          ]
        }
      ]
    },
    {
      "cell_type": "code",
      "source": [
        "df1=df.drop(['Trans','Sexuality','SurveyEase','SurveyLength','Accessibility','NEWOtherComms','MentalHealth','SOAccount','SOComm','SOPartFreq','SOVisitFreq','NEWStuck','NEWCollabToolsWantToWorkWith','ToolsTechWantToWorkWith','MiscTechWantToWorkWith','WebframeWantToWorkWith','PlatformWantToWorkWith','DatabaseWantToWorkWith','LanguageWantToWorkWith'],axis=1);"
      ],
      "metadata": {
        "id": "M24FGECIy026"
      },
      "execution_count": null,
      "outputs": []
    },
    {
      "cell_type": "code",
      "source": [
        "df1.info()"
      ],
      "metadata": {
        "colab": {
          "base_uri": "https://localhost:8080/"
        },
        "id": "E3L1fqQH0XJE",
        "outputId": "874cad1a-fe83-4920-82e7-62c8c4da6775"
      },
      "execution_count": null,
      "outputs": [
        {
          "output_type": "stream",
          "name": "stdout",
          "text": [
            "<class 'pandas.core.frame.DataFrame'>\n",
            "RangeIndex: 65648 entries, 0 to 65647\n",
            "Data columns (total 29 columns):\n",
            " #   Column                        Non-Null Count  Dtype  \n",
            "---  ------                        --------------  -----  \n",
            " 0   ResponseId                    65648 non-null  int64  \n",
            " 1   MainBranch                    65648 non-null  object \n",
            " 2   Employment                    65566 non-null  object \n",
            " 3   Country                       65648 non-null  object \n",
            " 4   US_State                      11647 non-null  object \n",
            " 5   UK_Country                    3501 non-null   object \n",
            " 6   EdLevel                       65408 non-null  object \n",
            " 7   Age1stCode                    65523 non-null  object \n",
            " 8   LearnCode                     65247 non-null  object \n",
            " 9   YearsCode                     64021 non-null  object \n",
            " 10  YearsCodePro                  49033 non-null  object \n",
            " 11  DevType                       53085 non-null  object \n",
            " 12  OrgSize                       48738 non-null  object \n",
            " 13  Currency                      49006 non-null  object \n",
            " 14  CompTotal                     37964 non-null  float64\n",
            " 15  CompFreq                      41988 non-null  object \n",
            " 16  LanguageHaveWorkedWith        64874 non-null  object \n",
            " 17  DatabaseHaveWorkedWith        55159 non-null  object \n",
            " 18  PlatformHaveWorkedWith        41490 non-null  object \n",
            " 19  WebframeHaveWorkedWith        49005 non-null  object \n",
            " 20  MiscTechHaveWorkedWith        37121 non-null  object \n",
            " 21  ToolsTechHaveWorkedWith       57524 non-null  object \n",
            " 22  NEWCollabToolsHaveWorkedWith  64015 non-null  object \n",
            " 23  OpSys                         65551 non-null  object \n",
            " 24  NEWSOSites                    65458 non-null  object \n",
            " 25  Age                           64881 non-null  object \n",
            " 26  Gender                        64764 non-null  object \n",
            " 27  Ethnicity                     62565 non-null  object \n",
            " 28  ConvertedCompYearly           37703 non-null  float64\n",
            "dtypes: float64(2), int64(1), object(26)\n",
            "memory usage: 14.5+ MB\n"
          ]
        }
      ]
    },
    {
      "cell_type": "code",
      "source": [
        "df1=df1.drop(['US_State','UK_Country','YearsCodePro','OrgSize'],axis=1)"
      ],
      "metadata": {
        "id": "-b1Hz2WG0gUY"
      },
      "execution_count": null,
      "outputs": []
    },
    {
      "cell_type": "code",
      "source": [
        "df1.info()"
      ],
      "metadata": {
        "colab": {
          "base_uri": "https://localhost:8080/"
        },
        "id": "Y76gk-sT1C79",
        "outputId": "d3b7ced3-adbe-4e8f-860e-2f47b603d398"
      },
      "execution_count": null,
      "outputs": [
        {
          "output_type": "stream",
          "name": "stdout",
          "text": [
            "<class 'pandas.core.frame.DataFrame'>\n",
            "RangeIndex: 65648 entries, 0 to 65647\n",
            "Data columns (total 25 columns):\n",
            " #   Column                        Non-Null Count  Dtype  \n",
            "---  ------                        --------------  -----  \n",
            " 0   ResponseId                    65648 non-null  int64  \n",
            " 1   MainBranch                    65648 non-null  object \n",
            " 2   Employment                    65566 non-null  object \n",
            " 3   Country                       65648 non-null  object \n",
            " 4   EdLevel                       65408 non-null  object \n",
            " 5   Age1stCode                    65523 non-null  object \n",
            " 6   LearnCode                     65247 non-null  object \n",
            " 7   YearsCode                     64021 non-null  object \n",
            " 8   DevType                       53085 non-null  object \n",
            " 9   Currency                      49006 non-null  object \n",
            " 10  CompTotal                     37964 non-null  float64\n",
            " 11  CompFreq                      41988 non-null  object \n",
            " 12  LanguageHaveWorkedWith        64874 non-null  object \n",
            " 13  DatabaseHaveWorkedWith        55159 non-null  object \n",
            " 14  PlatformHaveWorkedWith        41490 non-null  object \n",
            " 15  WebframeHaveWorkedWith        49005 non-null  object \n",
            " 16  MiscTechHaveWorkedWith        37121 non-null  object \n",
            " 17  ToolsTechHaveWorkedWith       57524 non-null  object \n",
            " 18  NEWCollabToolsHaveWorkedWith  64015 non-null  object \n",
            " 19  OpSys                         65551 non-null  object \n",
            " 20  NEWSOSites                    65458 non-null  object \n",
            " 21  Age                           64881 non-null  object \n",
            " 22  Gender                        64764 non-null  object \n",
            " 23  Ethnicity                     62565 non-null  object \n",
            " 24  ConvertedCompYearly           37703 non-null  float64\n",
            "dtypes: float64(2), int64(1), object(22)\n",
            "memory usage: 12.5+ MB\n"
          ]
        }
      ]
    },
    {
      "cell_type": "code",
      "source": [
        "df1.columns"
      ],
      "metadata": {
        "colab": {
          "base_uri": "https://localhost:8080/"
        },
        "id": "eDyhBwlw1FUn",
        "outputId": "796171b3-a795-42d5-e187-757f28e56dad"
      },
      "execution_count": null,
      "outputs": [
        {
          "output_type": "execute_result",
          "data": {
            "text/plain": [
              "Index(['ResponseId', 'MainBranch', 'Employment', 'Country', 'EdLevel',\n",
              "       'Age1stCode', 'LearnCode', 'YearsCode', 'DevType', 'Currency',\n",
              "       'CompTotal', 'CompFreq', 'LanguageHaveWorkedWith',\n",
              "       'DatabaseHaveWorkedWith', 'PlatformHaveWorkedWith',\n",
              "       'WebframeHaveWorkedWith', 'MiscTechHaveWorkedWith',\n",
              "       'ToolsTechHaveWorkedWith', 'NEWCollabToolsHaveWorkedWith', 'OpSys',\n",
              "       'NEWSOSites', 'Age', 'Gender', 'Ethnicity', 'ConvertedCompYearly'],\n",
              "      dtype='object')"
            ]
          },
          "metadata": {},
          "execution_count": 209
        }
      ]
    },
    {
      "cell_type": "code",
      "source": [
        "df1=df1.drop(['CompFreq','NEWSOSites','ConvertedCompYearly'],axis=1)"
      ],
      "metadata": {
        "id": "K-FD0V_pGYOq"
      },
      "execution_count": null,
      "outputs": []
    },
    {
      "cell_type": "code",
      "source": [
        "df1.columns"
      ],
      "metadata": {
        "colab": {
          "base_uri": "https://localhost:8080/"
        },
        "id": "yL2PpD__Hz7X",
        "outputId": "2bffb288-4cce-43b7-da29-dcb5263216dc"
      },
      "execution_count": null,
      "outputs": [
        {
          "output_type": "execute_result",
          "data": {
            "text/plain": [
              "Index(['ResponseId', 'MainBranch', 'Employment', 'Country', 'EdLevel',\n",
              "       'Age1stCode', 'LearnCode', 'YearsCode', 'DevType', 'Currency',\n",
              "       'CompTotal', 'LanguageHaveWorkedWith', 'DatabaseHaveWorkedWith',\n",
              "       'PlatformHaveWorkedWith', 'WebframeHaveWorkedWith',\n",
              "       'MiscTechHaveWorkedWith', 'ToolsTechHaveWorkedWith',\n",
              "       'NEWCollabToolsHaveWorkedWith', 'OpSys', 'Age', 'Gender', 'Ethnicity'],\n",
              "      dtype='object')"
            ]
          },
          "metadata": {},
          "execution_count": 211
        }
      ]
    },
    {
      "cell_type": "code",
      "source": [
        "df1.info()"
      ],
      "metadata": {
        "colab": {
          "base_uri": "https://localhost:8080/"
        },
        "id": "hUlg2a_rH6W0",
        "outputId": "31b414d3-7098-4188-923d-5368ae0277ff"
      },
      "execution_count": null,
      "outputs": [
        {
          "output_type": "stream",
          "name": "stdout",
          "text": [
            "<class 'pandas.core.frame.DataFrame'>\n",
            "RangeIndex: 65648 entries, 0 to 65647\n",
            "Data columns (total 22 columns):\n",
            " #   Column                        Non-Null Count  Dtype  \n",
            "---  ------                        --------------  -----  \n",
            " 0   ResponseId                    65648 non-null  int64  \n",
            " 1   MainBranch                    65648 non-null  object \n",
            " 2   Employment                    65566 non-null  object \n",
            " 3   Country                       65648 non-null  object \n",
            " 4   EdLevel                       65408 non-null  object \n",
            " 5   Age1stCode                    65523 non-null  object \n",
            " 6   LearnCode                     65247 non-null  object \n",
            " 7   YearsCode                     64021 non-null  object \n",
            " 8   DevType                       53085 non-null  object \n",
            " 9   Currency                      49006 non-null  object \n",
            " 10  CompTotal                     37964 non-null  float64\n",
            " 11  LanguageHaveWorkedWith        64874 non-null  object \n",
            " 12  DatabaseHaveWorkedWith        55159 non-null  object \n",
            " 13  PlatformHaveWorkedWith        41490 non-null  object \n",
            " 14  WebframeHaveWorkedWith        49005 non-null  object \n",
            " 15  MiscTechHaveWorkedWith        37121 non-null  object \n",
            " 16  ToolsTechHaveWorkedWith       57524 non-null  object \n",
            " 17  NEWCollabToolsHaveWorkedWith  64015 non-null  object \n",
            " 18  OpSys                         65551 non-null  object \n",
            " 19  Age                           64881 non-null  object \n",
            " 20  Gender                        64764 non-null  object \n",
            " 21  Ethnicity                     62565 non-null  object \n",
            "dtypes: float64(1), int64(1), object(20)\n",
            "memory usage: 11.0+ MB\n"
          ]
        }
      ]
    },
    {
      "cell_type": "code",
      "source": [
        "df1['LanguageHaveWorkedWith'].value_counts()"
      ],
      "metadata": {
        "colab": {
          "base_uri": "https://localhost:8080/"
        },
        "id": "KfvwxGkkQW4-",
        "outputId": "835bb654-3c4e-4351-deb7-92926d0ca280"
      },
      "execution_count": null,
      "outputs": [
        {
          "output_type": "execute_result",
          "data": {
            "text/plain": [
              "Python                                                                  953\n",
              "HTML/CSS;JavaScript;Node.js;TypeScript                                  658\n",
              "Java                                                                    557\n",
              "HTML/CSS;JavaScript;PHP;SQL                                             534\n",
              "C#                                                                      479\n",
              "                                                                       ... \n",
              "Assembly;Bash/Shell;C;C++;Go;JavaScript;Python;R;Rust;SQL;TypeScript      1\n",
              "C;C++;Delphi;Java;SQL                                                     1\n",
              "Bash/Shell;C;HTML/CSS;PHP;Python;R;SQL                                    1\n",
              "C;C++;Groovy;Java;Matlab;Python                                           1\n",
              "C++;HTML/CSS;Java;JavaScript;Python;Swift                                 1\n",
              "Name: LanguageHaveWorkedWith, Length: 24047, dtype: int64"
            ]
          },
          "metadata": {},
          "execution_count": 213
        }
      ]
    },
    {
      "cell_type": "code",
      "source": [
        "df1['LanguageHaveWorkedWith'].value_counts()[:13].plot(kind='barh',figsize=(12,7));"
      ],
      "metadata": {
        "colab": {
          "base_uri": "https://localhost:8080/",
          "height": 427
        },
        "id": "tWIEdPmnUfLX",
        "outputId": "aed7d2b3-eaa3-4620-eff1-132bf4eaade9"
      },
      "execution_count": null,
      "outputs": [
        {
          "output_type": "display_data",
          "data": {
            "image/png": "[encoded data removed]",
            "text/plain": [
              "<Figure size 864x504 with 1 Axes>"
            ]
          },
          "metadata": {
            "needs_background": "light"
          }
        }
      ]
    },
    {
      "cell_type": "code",
      "source": [
        "df1['OpSys'].value_counts()"
      ],
      "metadata": {
        "colab": {
          "base_uri": "https://localhost:8080/"
        },
        "id": "aJoxGU3wVAzF",
        "outputId": "1624536d-6125-4dd2-ceb0-7de0519f404b"
      },
      "execution_count": null,
      "outputs": [
        {
          "output_type": "execute_result",
          "data": {
            "text/plain": [
              "Windows                              29310\n",
              "Linux-based                          16802\n",
              "MacOS                                16743\n",
              "Windows Subsystem for Linux (WSL)     2168\n",
              "Other (please specify):                427\n",
              "BSD                                    101\n",
              "Name: OpSys, dtype: int64"
            ]
          },
          "metadata": {},
          "execution_count": 215
        }
      ]
    },
    {
      "cell_type": "code",
      "source": [
        "df1['OpSys'].value_counts()[:5].plot(kind='pie',autopct='%1.0f%%',figsize=(12,8))"
      ],
      "metadata": {
        "colab": {
          "base_uri": "https://localhost:8080/",
          "height": 484
        },
        "id": "Cgcxb5xMWqYm",
        "outputId": "00e314cd-fcde-444f-d6a6-74583b8f2f52"
      },
      "execution_count": null,
      "outputs": [
        {
          "output_type": "execute_result",
          "data": {
            "text/plain": [
              "<matplotlib.axes._subplots.AxesSubplot at 0x7fcd074c2490>"
            ]
          },
          "metadata": {},
          "execution_count": 216
        },
        {
          "output_type": "display_data",
          "data": {
            "image/png": "[encoded data removed]",
            "text/plain": [
              "<Figure size 864x576 with 1 Axes>"
            ]
          },
          "metadata": {}
        }
      ]
    },
    {
      "cell_type": "code",
      "source": [
        "df1['WebframeHaveWorkedWith'].value_counts()[:20]"
      ],
      "metadata": {
        "colab": {
          "base_uri": "https://localhost:8080/"
        },
        "id": "qpVyWWF_XdGM",
        "outputId": "bd4f400d-6618-4899-937d-23e6ddf4bccf"
      },
      "execution_count": null,
      "outputs": [
        {
          "output_type": "execute_result",
          "data": {
            "text/plain": [
              "React.js                        2549\n",
              "jQuery                          1829\n",
              "Express;React.js                1519\n",
              "Flask                           1397\n",
              "Spring                          1348\n",
              "Django                          1035\n",
              "Angular                          960\n",
              "ASP.NET;ASP.NET Core             845\n",
              "ASP.NET Core                     788\n",
              "Vue.js                           758\n",
              "Ruby on Rails                    690\n",
              "ASP.NET;ASP.NET Core ;jQuery     638\n",
              "Django;Flask                     573\n",
              "Express                          570\n",
              "Angular;Spring                   528\n",
              "jQuery;React.js                  469\n",
              "ASP.NET                          465\n",
              "React.js;Spring                  452\n",
              "Angular;ASP.NET Core             409\n",
              "ASP.NET;jQuery                   385\n",
              "Name: WebframeHaveWorkedWith, dtype: int64"
            ]
          },
          "metadata": {},
          "execution_count": 217
        }
      ]
    },
    {
      "cell_type": "code",
      "source": [
        "df1['WebframeHaveWorkedWith'].value_counts()[:20].sort_values().plot(kind='bar',figsize=(10,8))"
      ],
      "metadata": {
        "colab": {
          "base_uri": "https://localhost:8080/",
          "height": 641
        },
        "id": "LaJ83W95XmCy",
        "outputId": "c54e5c59-8673-4320-8370-512d8869f2e4"
      },
      "execution_count": null,
      "outputs": [
        {
          "output_type": "execute_result",
          "data": {
            "text/plain": [
              "<matplotlib.axes._subplots.AxesSubplot at 0x7fcd07495550>"
            ]
          },
          "metadata": {},
          "execution_count": 218
        },
        {
          "output_type": "display_data",
          "data": {
            "image/png": "[encoded data removed]",
            "text/plain": [
              "<Figure size 720x576 with 1 Axes>"
            ]
          },
          "metadata": {
            "needs_background": "light"
          }
        }
      ]
    },
    {
      "cell_type": "code",
      "source": [
        "df['MiscTechHaveWorkedWith'].value_counts()[:10]"
      ],
      "metadata": {
        "colab": {
          "base_uri": "https://localhost:8080/"
        },
        "id": "BwBonNBSYHcX",
        "outputId": "70ba4240-0f3f-496a-efd4-6ed6e8380c29"
      },
      "execution_count": null,
      "outputs": [
        {
          "output_type": "execute_result",
          "data": {
            "text/plain": [
              ".NET Framework;.NET Core / .NET 5    6106\n",
              ".NET Framework                       2639\n",
              "NumPy;Pandas                         2505\n",
              "React Native                         2231\n",
              ".NET Core / .NET 5                   2118\n",
              "Flutter                              1959\n",
              "NumPy                                1177\n",
              "Cordova                              1060\n",
              "Qt                                   1000\n",
              "Keras;NumPy;Pandas;TensorFlow         630\n",
              "Name: MiscTechHaveWorkedWith, dtype: int64"
            ]
          },
          "metadata": {},
          "execution_count": 219
        }
      ]
    },
    {
      "cell_type": "code",
      "source": [
        "plotdata=df1['MiscTechHaveWorkedWith'].value_counts()[:10].sort_values().plot(kind='barh',figsize=(10,8))"
      ],
      "metadata": {
        "colab": {
          "base_uri": "https://localhost:8080/",
          "height": 483
        },
        "id": "Ljxh5i9Ya5hh",
        "outputId": "44271f95-2f14-4d1c-ba0d-0f12485f56d5"
      },
      "execution_count": null,
      "outputs": [
        {
          "output_type": "display_data",
          "data": {
            "image/png": "[encoded data removed]",
            "text/plain": [
              "<Figure size 720x576 with 1 Axes>"
            ]
          },
          "metadata": {
            "needs_background": "light"
          }
        }
      ]
    },
    {
      "cell_type": "code",
      "source": [
        "df1['Gender'].value_counts()[:3]"
      ],
      "metadata": {
        "colab": {
          "base_uri": "https://localhost:8080/"
        },
        "id": "-pCQ276Pb3VD",
        "outputId": "cb20c601-42cc-4bab-f161-b01bf1fa14c9"
      },
      "execution_count": null,
      "outputs": [
        {
          "output_type": "execute_result",
          "data": {
            "text/plain": [
              "Man                  59165\n",
              "Woman                 2987\n",
              "Prefer not to say     1111\n",
              "Name: Gender, dtype: int64"
            ]
          },
          "metadata": {},
          "execution_count": 221
        }
      ]
    },
    {
      "cell_type": "code",
      "source": [
        "df1['Gender'].value_counts()[:3].plot(kind='pie',autopct='%1.0f%%',figsize=(6,8))"
      ],
      "metadata": {
        "colab": {
          "base_uri": "https://localhost:8080/",
          "height": 384
        },
        "id": "BcbvgkYnfD8s",
        "outputId": "7442cbed-3b02-4c65-b5d2-9249a89b0928"
      },
      "execution_count": null,
      "outputs": [
        {
          "output_type": "execute_result",
          "data": {
            "text/plain": [
              "<matplotlib.axes._subplots.AxesSubplot at 0x7fcd073712d0>"
            ]
          },
          "metadata": {},
          "execution_count": 222
        },
        {
          "output_type": "display_data",
          "data": {
            "image/png": "[encoded data removed]",
            "text/plain": [
              "<Figure size 432x576 with 1 Axes>"
            ]
          },
          "metadata": {}
        }
      ]
    },
    {
      "cell_type": "code",
      "source": [
        "df1['ToolsTechHaveWorkedWith'].value_counts()[:10]"
      ],
      "metadata": {
        "colab": {
          "base_uri": "https://localhost:8080/"
        },
        "id": "W4696usmgCK2",
        "outputId": "e73deec4-efc3-43ee-f164-3749dee68947"
      },
      "execution_count": null,
      "outputs": [
        {
          "output_type": "execute_result",
          "data": {
            "text/plain": [
              "Git                                19139\n",
              "Docker;Git                         10003\n",
              "Docker;Git;Kubernetes               3261\n",
              "Docker;Git;Yarn                     3090\n",
              "Git;Yarn                            2584\n",
              "Git;Unity 3D                        1657\n",
              "Docker;Git;Kubernetes;Yarn          1050\n",
              "Ansible;Docker;Git                   889\n",
              "Docker                               825\n",
              "Docker;Git;Kubernetes;Terraform      809\n",
              "Name: ToolsTechHaveWorkedWith, dtype: int64"
            ]
          },
          "metadata": {},
          "execution_count": 223
        }
      ]
    },
    {
      "cell_type": "code",
      "source": [
        "df1['ToolsTechHaveWorkedWith'].value_counts()[:10].sort_values().plot(kind='bar',figsize=(8,8))"
      ],
      "metadata": {
        "id": "1GfinbotgN1v",
        "colab": {
          "base_uri": "https://localhost:8080/",
          "height": 656
        },
        "outputId": "8dc0d45b-3815-49fe-eb04-e180c02d9d4f"
      },
      "execution_count": null,
      "outputs": [
        {
          "output_type": "execute_result",
          "data": {
            "text/plain": [
              "<matplotlib.axes._subplots.AxesSubplot at 0x7fcd072df650>"
            ]
          },
          "metadata": {},
          "execution_count": 224
        },
        {
          "output_type": "display_data",
          "data": {
            "image/png": "[encoded data removed]",
            "text/plain": [
              "<Figure size 576x576 with 1 Axes>"
            ]
          },
          "metadata": {
            "needs_background": "light"
          }
        }
      ]
    },
    {
      "cell_type": "code",
      "source": [
        "df2=df1[df1['Age']=='Prefer not to say'].index"
      ],
      "metadata": {
        "id": "tiX170iJfkL4"
      },
      "execution_count": null,
      "outputs": []
    },
    {
      "cell_type": "code",
      "source": [
        "df1['Country'].value_counts()[:9]"
      ],
      "metadata": {
        "colab": {
          "base_uri": "https://localhost:8080/"
        },
        "id": "7tuhHdNhi6XF",
        "outputId": "32d2781a-39d7-4fd2-da01-9955bbd9e0a7"
      },
      "execution_count": null,
      "outputs": [
        {
          "output_type": "execute_result",
          "data": {
            "text/plain": [
              "USA            11933\n",
              "India           7997\n",
              "Germany         4432\n",
              "UK              3546\n",
              "Canada          2435\n",
              "France          2162\n",
              "Brazil          1798\n",
              "Poland          1420\n",
              "Netherlands     1417\n",
              "Name: Country, dtype: int64"
            ]
          },
          "metadata": {},
          "execution_count": 226
        }
      ]
    },
    {
      "cell_type": "code",
      "source": [
        "# df1['Country'].replace('United Kingdom of Great Britain and Northern Ireland','UK')"
      ],
      "metadata": {
        "id": "tj94wSuGo1kZ"
      },
      "execution_count": null,
      "outputs": []
    },
    {
      "cell_type": "code",
      "source": [
        "df1['Country'].value_counts()[:9].plot(kind='pie',autopct='%1.0f%%',figsize=(12,8))"
      ],
      "metadata": {
        "colab": {
          "base_uri": "https://localhost:8080/",
          "height": 484
        },
        "id": "U1yL3YMPkqsC",
        "outputId": "9ac1b6c3-e29a-4cdd-b5e3-4e2297fc5104"
      },
      "execution_count": null,
      "outputs": [
        {
          "output_type": "execute_result",
          "data": {
            "text/plain": [
              "<matplotlib.axes._subplots.AxesSubplot at 0x7fcd07524a90>"
            ]
          },
          "metadata": {},
          "execution_count": 228
        },
        {
          "output_type": "display_data",
          "data": {
            "image/png": "[encoded data removed]",
            "text/plain": [
              "<Figure size 864x576 with 1 Axes>"
            ]
          },
          "metadata": {}
        }
      ]
    },
    {
      "cell_type": "code",
      "source": [
        "df1['YearsCode'].value_counts()"
      ],
      "metadata": {
        "colab": {
          "base_uri": "https://localhost:8080/"
        },
        "id": "8Y87Eh_krg6I",
        "outputId": "54ab1771-83a4-4daf-fcc3-756893cb4caf"
      },
      "execution_count": null,
      "outputs": [
        {
          "output_type": "execute_result",
          "data": {
            "text/plain": [
              "10                    4803\n",
              "5                     4689\n",
              "6                     4297\n",
              "7                     3857\n",
              "4                     3799\n",
              "8                     3685\n",
              "3                     3259\n",
              "15                    2938\n",
              "20                    2813\n",
              "12                    2569\n",
              "2                     2415\n",
              "9                     2394\n",
              "11                    1917\n",
              "13                    1637\n",
              "25                    1604\n",
              "14                    1462\n",
              "30                    1388\n",
              "16                    1222\n",
              "18                    1167\n",
              "1                     1117\n",
              "17                    1100\n",
              "Less than 1 year       970\n",
              "35                     833\n",
              "22                     770\n",
              "21                     726\n",
              "40                     674\n",
              "23                     666\n",
              "19                     549\n",
              "24                     524\n",
              "26                     444\n",
              "27                     385\n",
              "28                     376\n",
              "38                     305\n",
              "37                     270\n",
              "32                     269\n",
              "33                     249\n",
              "36                     217\n",
              "34                     211\n",
              "31                     178\n",
              "39                     176\n",
              "42                     163\n",
              "29                     146\n",
              "41                     141\n",
              "45                     131\n",
              "More than 50 years     130\n",
              "43                     105\n",
              "44                      81\n",
              "46                      55\n",
              "50                      51\n",
              "47                      40\n",
              "48                      29\n",
              "49                      25\n",
              "Name: YearsCode, dtype: int64"
            ]
          },
          "metadata": {},
          "execution_count": 232
        }
      ]
    },
    {
      "cell_type": "code",
      "source": [
        "df1['Age1stCode'].value_counts()[:5]"
      ],
      "metadata": {
        "colab": {
          "base_uri": "https://localhost:8080/"
        },
        "id": "qsLb8be1rr3x",
        "outputId": "1f3ea283-1df2-412c-b04f-fae56f311753"
      },
      "execution_count": null,
      "outputs": [
        {
          "output_type": "execute_result",
          "data": {
            "text/plain": [
              "11 - 17 years    34879\n",
              "18 - 24 years    15614\n",
              "5 - 10 years      9342\n",
              "25 - 34 years     3266\n",
              "35 - 44 years     1028\n",
              "Name: Age1stCode, dtype: int64"
            ]
          },
          "metadata": {},
          "execution_count": 240
        }
      ]
    },
    {
      "cell_type": "code",
      "source": [
        "df1['Age1stCode'].value_counts()[:5].plot(kind='bar',figsize=(10,8))"
      ],
      "metadata": {
        "colab": {
          "base_uri": "https://localhost:8080/",
          "height": 557
        },
        "id": "1Bt8ar2PsHK2",
        "outputId": "b64d0c55-ce3c-4cf7-de91-e6eaec1eef1b"
      },
      "execution_count": null,
      "outputs": [
        {
          "output_type": "execute_result",
          "data": {
            "text/plain": [
              "<matplotlib.axes._subplots.AxesSubplot at 0x7fcd0bdde710>"
            ]
          },
          "metadata": {},
          "execution_count": 243
        },
        {
          "output_type": "display_data",
          "data": {
            "image/png": "[encoded data removed]",
            "text/plain": [
              "<Figure size 720x576 with 1 Axes>"
            ]
          },
          "metadata": {
            "needs_background": "light"
          }
        }
      ]
    },
    {
      "cell_type": "code",
      "source": [
        "df1['MainBranch'].value_counts()[:5]"
      ],
      "metadata": {
        "colab": {
          "base_uri": "https://localhost:8080/"
        },
        "id": "bRwoFcyBsRmR",
        "outputId": "536eeca1-b069-4a36-9a51-169e4f97cdd4"
      },
      "execution_count": null,
      "outputs": [
        {
          "output_type": "execute_result",
          "data": {
            "text/plain": [
              "I am a developer by profession                                                   46842\n",
              "I am a student who is learning to code                                            8778\n",
              "I am not primarily a developer, but I write code sometimes as part of my work     4962\n",
              "I code primarily as a hobby                                                       3711\n",
              "I used to be a developer by profession, but no longer am                           979\n",
              "Name: MainBranch, dtype: int64"
            ]
          },
          "metadata": {},
          "execution_count": 245
        }
      ]
    },
    {
      "cell_type": "code",
      "source": [
        "df1['LearnCode'].value_counts()[:5].plot(kind='bar',figsize=(10,8));"
      ],
      "metadata": {
        "colab": {
          "base_uri": "https://localhost:8080/",
          "height": 860
        },
        "id": "FwTY2V9tt9sy",
        "outputId": "b5e6852d-0511-410d-f859-42d5e462c2c2"
      },
      "execution_count": null,
      "outputs": [
        {
          "output_type": "display_data",
          "data": {
            "image/png": "[encoded data removed]",
            "text/plain": [
              "<Figure size 720x576 with 1 Axes>"
            ]
          },
          "metadata": {
            "needs_background": "light"
          }
        }
      ]
    },
    {
      "cell_type": "code",
      "source": [
        "\n",
        "df1['DevType'].value_counts()[:5].plot(kind='pie',autopct='%1.0f%%',figsize=(10,8));"
      ],
      "metadata": {
        "colab": {
          "base_uri": "https://localhost:8080/",
          "height": 465
        },
        "id": "yuzuMxEBuEbT",
        "outputId": "9170de36-fcf5-4848-a3e8-24235928b448"
      },
      "execution_count": null,
      "outputs": [
        {
          "output_type": "display_data",
          "data": {
            "image/png": "[encoded data removed]",
            "text/plain": [
              "<Figure size 720x576 with 1 Axes>"
            ]
          },
          "metadata": {}
        }
      ]
    },
    {
      "cell_type": "code",
      "source": [
        "# df1['DatabaseHaveWorkedWith'].value_counts()[:5]\n",
        "df1['DatabaseHaveWorkedWith'].value_counts()[:5].plot(kind='bar',figsize=(10,8));"
      ],
      "metadata": {
        "colab": {
          "base_uri": "https://localhost:8080/",
          "height": 595
        },
        "id": "45mTBCS6ucI8",
        "outputId": "3be4fed5-f365-4a2e-c1a7-79b25c86d790"
      },
      "execution_count": null,
      "outputs": [
        {
          "output_type": "execute_result",
          "data": {
            "text/plain": [
              "<matplotlib.axes._subplots.AxesSubplot at 0x7fcd07090190>"
            ]
          },
          "metadata": {},
          "execution_count": 257
        },
        {
          "output_type": "display_data",
          "data": {
            "image/png": "[encoded data removed]",
            "text/plain": [
              "<Figure size 720x576 with 1 Axes>"
            ]
          },
          "metadata": {
            "needs_background": "light"
          }
        }
      ]
    },
    {
      "cell_type": "code",
      "source": [
        "\n",
        "# df1['PlatformHaveWorkedWith'].value_counts()[:5]\n",
        "df1['PlatformHaveWorkedWith'].value_counts()[:5].plot(kind='pie',autopct='%1.0f%%',figsize=(10,8));"
      ],
      "metadata": {
        "colab": {
          "base_uri": "https://localhost:8080/",
          "height": 465
        },
        "id": "65c1x6xrum10",
        "outputId": "b65c875f-20e7-4dc8-8363-59ed2617e401"
      },
      "execution_count": null,
      "outputs": [
        {
          "output_type": "display_data",
          "data": {
            "image/png": "[encoded data removed]",
            "text/plain": [
              "<Figure size 720x576 with 1 Axes>"
            ]
          },
          "metadata": {}
        }
      ]
    },
    {
      "cell_type": "code",
      "source": [
        ""
      ],
      "metadata": {
        "id": "-HBTLowiujgy"
      },
      "execution_count": null,
      "outputs": []
    },
    {
      "cell_type": "code",
      "source": [
        "df1[]"
      ],
      "metadata": {
        "colab": {
          "base_uri": "https://localhost:8080/",
          "height": 1000
        },
        "id": "SunueDmehGPP",
        "outputId": "63ed070c-8097-4f0f-d250-cd7052007781"
      },
      "execution_count": null,
      "outputs": [
        {
          "output_type": "execute_result",
          "data": {
            "text/html": [
              "\n",
              "  <div id=\"df-ace27eac-98f4-4161-833c-494a51d36598\">\n",
              "    <div class=\"colab-df-container\">\n",
              "      <div>\n",
              "<style scoped>\n",
              "    .dataframe tbody tr th:only-of-type {\n",
              "        vertical-align: middle;\n",
              "    }\n",
              "\n",
              "    .dataframe tbody tr th {\n",
              "        vertical-align: top;\n",
              "    }\n",
              "\n",
              "    .dataframe thead th {\n",
              "        text-align: right;\n",
              "    }\n",
              "</style>\n",
              "<table border=\"1\" class=\"dataframe\">\n",
              "  <thead>\n",
              "    <tr style=\"text-align: right;\">\n",
              "      <th></th>\n",
              "      <th>ResponseId</th>\n",
              "      <th>MainBranch</th>\n",
              "      <th>Employment</th>\n",
              "      <th>Country</th>\n",
              "      <th>EdLevel</th>\n",
              "      <th>Age1stCode</th>\n",
              "      <th>LearnCode</th>\n",
              "      <th>YearsCode</th>\n",
              "      <th>DevType</th>\n",
              "      <th>Currency</th>\n",
              "      <th>CompTotal</th>\n",
              "      <th>LanguageHaveWorkedWith</th>\n",
              "      <th>DatabaseHaveWorkedWith</th>\n",
              "      <th>PlatformHaveWorkedWith</th>\n",
              "      <th>WebframeHaveWorkedWith</th>\n",
              "      <th>MiscTechHaveWorkedWith</th>\n",
              "      <th>ToolsTechHaveWorkedWith</th>\n",
              "      <th>NEWCollabToolsHaveWorkedWith</th>\n",
              "      <th>OpSys</th>\n",
              "      <th>Age</th>\n",
              "      <th>Gender</th>\n",
              "      <th>Ethnicity</th>\n",
              "    </tr>\n",
              "  </thead>\n",
              "  <tbody>\n",
              "    <tr>\n",
              "      <th>0</th>\n",
              "      <td>1</td>\n",
              "      <td>I am a developer by profession</td>\n",
              "      <td>Independent contractor, freelancer, or self-em...</td>\n",
              "      <td>Slovakia</td>\n",
              "      <td>Secondary school (e.g. American high school, G...</td>\n",
              "      <td>18 - 24 years</td>\n",
              "      <td>Coding Bootcamp;Other online resources (ex: vi...</td>\n",
              "      <td>NaN</td>\n",
              "      <td>Developer, mobile</td>\n",
              "      <td>EUR European Euro</td>\n",
              "      <td>4800.0</td>\n",
              "      <td>C++;HTML/CSS;JavaScript;Objective-C;PHP;Swift</td>\n",
              "      <td>PostgreSQL;SQLite</td>\n",
              "      <td>NaN</td>\n",
              "      <td>Laravel;Symfony</td>\n",
              "      <td>NaN</td>\n",
              "      <td>NaN</td>\n",
              "      <td>PHPStorm;Xcode</td>\n",
              "      <td>MacOS</td>\n",
              "      <td>25-34 years old</td>\n",
              "      <td>Man</td>\n",
              "      <td>White or of European descent</td>\n",
              "    </tr>\n",
              "    <tr>\n",
              "      <th>1</th>\n",
              "      <td>2</td>\n",
              "      <td>I am a student who is learning to code</td>\n",
              "      <td>Student, full-time</td>\n",
              "      <td>Netherlands</td>\n",
              "      <td>Bachelor’s degree (B.A., B.S., B.Eng., etc.)</td>\n",
              "      <td>11 - 17 years</td>\n",
              "      <td>Other online resources (ex: videos, blogs, etc...</td>\n",
              "      <td>7</td>\n",
              "      <td>NaN</td>\n",
              "      <td>NaN</td>\n",
              "      <td>NaN</td>\n",
              "      <td>JavaScript;Python</td>\n",
              "      <td>PostgreSQL</td>\n",
              "      <td>NaN</td>\n",
              "      <td>Angular;Flask;Vue.js</td>\n",
              "      <td>Cordova</td>\n",
              "      <td>Docker;Git;Yarn</td>\n",
              "      <td>Android Studio;IntelliJ;Notepad++;PyCharm</td>\n",
              "      <td>Windows</td>\n",
              "      <td>18-24 years old</td>\n",
              "      <td>Man</td>\n",
              "      <td>White or of European descent</td>\n",
              "    </tr>\n",
              "    <tr>\n",
              "      <th>2</th>\n",
              "      <td>3</td>\n",
              "      <td>I am not primarily a developer, but I write co...</td>\n",
              "      <td>Student, full-time</td>\n",
              "      <td>Russian Federation</td>\n",
              "      <td>Bachelor’s degree (B.A., B.S., B.Eng., etc.)</td>\n",
              "      <td>11 - 17 years</td>\n",
              "      <td>Other online resources (ex: videos, blogs, etc...</td>\n",
              "      <td>NaN</td>\n",
              "      <td>NaN</td>\n",
              "      <td>NaN</td>\n",
              "      <td>NaN</td>\n",
              "      <td>Assembly;C;Python;R;Rust</td>\n",
              "      <td>SQLite</td>\n",
              "      <td>Heroku</td>\n",
              "      <td>Flask</td>\n",
              "      <td>NumPy;Pandas;TensorFlow;Torch/PyTorch</td>\n",
              "      <td>NaN</td>\n",
              "      <td>IPython/Jupyter;PyCharm;RStudio;Sublime Text;V...</td>\n",
              "      <td>MacOS</td>\n",
              "      <td>18-24 years old</td>\n",
              "      <td>Man</td>\n",
              "      <td>Prefer not to say</td>\n",
              "    </tr>\n",
              "    <tr>\n",
              "      <th>3</th>\n",
              "      <td>4</td>\n",
              "      <td>I am a developer by profession</td>\n",
              "      <td>Employed full-time</td>\n",
              "      <td>Austria</td>\n",
              "      <td>Master’s degree (M.A., M.S., M.Eng., MBA, etc.)</td>\n",
              "      <td>11 - 17 years</td>\n",
              "      <td>NaN</td>\n",
              "      <td>NaN</td>\n",
              "      <td>Developer, front-end</td>\n",
              "      <td>EUR European Euro</td>\n",
              "      <td>NaN</td>\n",
              "      <td>JavaScript;TypeScript</td>\n",
              "      <td>NaN</td>\n",
              "      <td>NaN</td>\n",
              "      <td>Angular;jQuery</td>\n",
              "      <td>NaN</td>\n",
              "      <td>NaN</td>\n",
              "      <td>NaN</td>\n",
              "      <td>Windows</td>\n",
              "      <td>35-44 years old</td>\n",
              "      <td>Man</td>\n",
              "      <td>White or of European descent</td>\n",
              "    </tr>\n",
              "    <tr>\n",
              "      <th>4</th>\n",
              "      <td>5</td>\n",
              "      <td>I am a developer by profession</td>\n",
              "      <td>Independent contractor, freelancer, or self-em...</td>\n",
              "      <td>UK</td>\n",
              "      <td>Master’s degree (M.A., M.S., M.Eng., MBA, etc.)</td>\n",
              "      <td>5 - 10 years</td>\n",
              "      <td>Friend or family member</td>\n",
              "      <td>17</td>\n",
              "      <td>Developer, desktop or enterprise applications;...</td>\n",
              "      <td>GBP\\tPound sterling</td>\n",
              "      <td>NaN</td>\n",
              "      <td>Bash/Shell;HTML/CSS;Python;SQL</td>\n",
              "      <td>Elasticsearch;PostgreSQL;Redis</td>\n",
              "      <td>NaN</td>\n",
              "      <td>Flask</td>\n",
              "      <td>Apache Spark;Hadoop;NumPy;Pandas</td>\n",
              "      <td>Docker;Git;Kubernetes;Yarn</td>\n",
              "      <td>Atom;IPython/Jupyter;Notepad++;PyCharm;Vim</td>\n",
              "      <td>Linux-based</td>\n",
              "      <td>25-34 years old</td>\n",
              "      <td>Man</td>\n",
              "      <td>White or of European descent</td>\n",
              "    </tr>\n",
              "    <tr>\n",
              "      <th>...</th>\n",
              "      <td>...</td>\n",
              "      <td>...</td>\n",
              "      <td>...</td>\n",
              "      <td>...</td>\n",
              "      <td>...</td>\n",
              "      <td>...</td>\n",
              "      <td>...</td>\n",
              "      <td>...</td>\n",
              "      <td>...</td>\n",
              "      <td>...</td>\n",
              "      <td>...</td>\n",
              "      <td>...</td>\n",
              "      <td>...</td>\n",
              "      <td>...</td>\n",
              "      <td>...</td>\n",
              "      <td>...</td>\n",
              "      <td>...</td>\n",
              "      <td>...</td>\n",
              "      <td>...</td>\n",
              "      <td>...</td>\n",
              "      <td>...</td>\n",
              "      <td>...</td>\n",
              "    </tr>\n",
              "    <tr>\n",
              "      <th>65643</th>\n",
              "      <td>65644</td>\n",
              "      <td>I am a developer by profession</td>\n",
              "      <td>Employed full-time</td>\n",
              "      <td>Germany</td>\n",
              "      <td>Bachelor’s degree (B.A., B.S., B.Eng., etc.)</td>\n",
              "      <td>25 - 34 years</td>\n",
              "      <td>Other online resources (ex: videos, blogs, etc...</td>\n",
              "      <td>4</td>\n",
              "      <td>Data scientist or machine learning specialist</td>\n",
              "      <td>EUR European Euro</td>\n",
              "      <td>NaN</td>\n",
              "      <td>Python</td>\n",
              "      <td>Elasticsearch;MySQL;PostgreSQL</td>\n",
              "      <td>AWS;IBM Cloud or Watson</td>\n",
              "      <td>Django;FastAPI;Flask</td>\n",
              "      <td>Apache Spark;Keras;NumPy;TensorFlow;Torch/PyTorch</td>\n",
              "      <td>Docker;Git</td>\n",
              "      <td>IPython/Jupyter;PyCharm</td>\n",
              "      <td>MacOS</td>\n",
              "      <td>25-34 years old</td>\n",
              "      <td>Prefer not to say</td>\n",
              "      <td>Prefer not to say</td>\n",
              "    </tr>\n",
              "    <tr>\n",
              "      <th>65644</th>\n",
              "      <td>65645</td>\n",
              "      <td>I am a developer by profession</td>\n",
              "      <td>Independent contractor, freelancer, or self-em...</td>\n",
              "      <td>Bangladesh</td>\n",
              "      <td>Bachelor’s degree (B.A., B.S., B.Eng., etc.)</td>\n",
              "      <td>11 - 17 years</td>\n",
              "      <td>Coding Bootcamp;Other online resources (ex: vi...</td>\n",
              "      <td>7</td>\n",
              "      <td>Developer, front-end;Developer, full-stack;Dev...</td>\n",
              "      <td>USD\\tUnited States dollar</td>\n",
              "      <td>2500.0</td>\n",
              "      <td>HTML/CSS;JavaScript;Node.js;PHP;Python;SQL</td>\n",
              "      <td>MySQL;PostgreSQL</td>\n",
              "      <td>NaN</td>\n",
              "      <td>Angular.js;Django;Drupal;Express;jQuery;Larave...</td>\n",
              "      <td>NaN</td>\n",
              "      <td>Git</td>\n",
              "      <td>IPython/Jupyter;Notepad++;PyCharm;Sublime Text...</td>\n",
              "      <td>Windows</td>\n",
              "      <td>25-34 years old</td>\n",
              "      <td>Man</td>\n",
              "      <td>South Asian</td>\n",
              "    </tr>\n",
              "    <tr>\n",
              "      <th>65645</th>\n",
              "      <td>65646</td>\n",
              "      <td>I am a developer by profession</td>\n",
              "      <td>Employed part-time</td>\n",
              "      <td>UK</td>\n",
              "      <td>Bachelor’s degree (B.A., B.S., B.Eng., etc.)</td>\n",
              "      <td>11 - 17 years</td>\n",
              "      <td>Other online resources (ex: videos, blogs, etc...</td>\n",
              "      <td>23</td>\n",
              "      <td>Developer, full-stack</td>\n",
              "      <td>GBP\\tPound sterling</td>\n",
              "      <td>39000.0</td>\n",
              "      <td>C;C++;HTML/CSS;JavaScript;PHP;Python;SQL</td>\n",
              "      <td>Couchbase;MariaDB;PostgreSQL</td>\n",
              "      <td>AWS;Google Cloud Platform</td>\n",
              "      <td>NaN</td>\n",
              "      <td>NumPy;Qt</td>\n",
              "      <td>NaN</td>\n",
              "      <td>Vim;Visual Studio Code</td>\n",
              "      <td>Windows Subsystem for Linux (WSL)</td>\n",
              "      <td>25-34 years old</td>\n",
              "      <td>Prefer not to say</td>\n",
              "      <td>White or of European descent</td>\n",
              "    </tr>\n",
              "    <tr>\n",
              "      <th>65646</th>\n",
              "      <td>65647</td>\n",
              "      <td>I am a student who is learning to code</td>\n",
              "      <td>Student, full-time</td>\n",
              "      <td>India</td>\n",
              "      <td>Something else</td>\n",
              "      <td>11 - 17 years</td>\n",
              "      <td>Other online resources (ex: videos, blogs, etc...</td>\n",
              "      <td>4</td>\n",
              "      <td>NaN</td>\n",
              "      <td>NaN</td>\n",
              "      <td>NaN</td>\n",
              "      <td>C++;HTML/CSS;Java;JavaScript;Python;Swift</td>\n",
              "      <td>MongoDB;MySQL;PostgreSQL</td>\n",
              "      <td>Google Cloud Platform</td>\n",
              "      <td>NaN</td>\n",
              "      <td>NumPy;Pandas</td>\n",
              "      <td>Docker;Kubernetes</td>\n",
              "      <td>IPython/Jupyter;NetBeans;Notepad++;PyCharm;Sub...</td>\n",
              "      <td>MacOS</td>\n",
              "      <td>18-24 years old</td>\n",
              "      <td>Man</td>\n",
              "      <td>Prefer not to say</td>\n",
              "    </tr>\n",
              "    <tr>\n",
              "      <th>65647</th>\n",
              "      <td>65648</td>\n",
              "      <td>I am a developer by profession</td>\n",
              "      <td>Employed full-time</td>\n",
              "      <td>USA</td>\n",
              "      <td>Secondary school (e.g. American high school, G...</td>\n",
              "      <td>11 - 17 years</td>\n",
              "      <td>Coding Bootcamp;Online Courses or Certificatio...</td>\n",
              "      <td>2</td>\n",
              "      <td>Developer, back-end</td>\n",
              "      <td>USD\\tUnited States dollar</td>\n",
              "      <td>55000.0</td>\n",
              "      <td>Bash/Shell;HTML/CSS;Java;JavaScript;Python</td>\n",
              "      <td>MySQL;SQLite</td>\n",
              "      <td>AWS;IBM Cloud or Watson</td>\n",
              "      <td>Django;Flask;jQuery;React.js</td>\n",
              "      <td>NaN</td>\n",
              "      <td>Docker;Git;Kubernetes</td>\n",
              "      <td>Vim;Visual Studio Code</td>\n",
              "      <td>Linux-based</td>\n",
              "      <td>NaN</td>\n",
              "      <td>NaN</td>\n",
              "      <td>NaN</td>\n",
              "    </tr>\n",
              "  </tbody>\n",
              "</table>\n",
              "<p>65648 rows × 22 columns</p>\n",
              "</div>\n",
              "      <button class=\"colab-df-convert\" onclick=\"convertToInteractive('df-ace27eac-98f4-4161-833c-494a51d36598')\"\n",
              "              title=\"Convert this dataframe to an interactive table.\"\n",
              "              style=\"display:none;\">\n",
              "        \n",
              "  <svg xmlns=\"http://www.w3.org/2000/svg\" height=\"24px\"viewBox=\"0 0 24 24\"\n",
              "       width=\"24px\">\n",
              "    <path d=\"M0 0h24v24H0V0z\" fill=\"none\"/>\n",
              "    <path d=\"M18.56 5.44l.94 2.06.94-2.06 2.06-.94-2.06-.94-.94-2.06-.94 2.06-2.06.94zm-11 1L8.5 8.5l.94-2.06 2.06-.94-2.06-.94L8.5 2.5l-.94 2.06-2.06.94zm10 10l.94 2.06.94-2.06 2.06-.94-2.06-.94-.94-2.06-.94 2.06-2.06.94z\"/><path d=\"M17.41 7.96l-1.37-1.37c-.4-.4-.92-.59-1.43-.59-.52 0-1.04.2-1.43.59L10.3 9.45l-7.72 7.72c-.78.78-.78 2.05 0 2.83L4 21.41c.39.39.9.59 1.41.59.51 0 1.02-.2 1.41-.59l7.78-7.78 2.81-2.81c.8-.78.8-2.07 0-2.86zM5.41 20L4 18.59l7.72-7.72 1.47 1.35L5.41 20z\"/>\n",
              "  </svg>\n",
              "      </button>\n",
              "      \n",
              "  <style>\n",
              "    .colab-df-container {\n",
              "      display:flex;\n",
              "      flex-wrap:wrap;\n",
              "      gap: 12px;\n",
              "    }\n",
              "\n",
              "    .colab-df-convert {\n",
              "      background-color: #E8F0FE;\n",
              "      border: none;\n",
              "      border-radius: 50%;\n",
              "      cursor: pointer;\n",
              "      display: none;\n",
              "      fill: #1967D2;\n",
              "      height: 32px;\n",
              "      padding: 0 0 0 0;\n",
              "      width: 32px;\n",
              "    }\n",
              "\n",
              "    .colab-df-convert:hover {\n",
              "      background-color: #E2EBFA;\n",
              "      box-shadow: 0px 1px 2px rgba(60, 64, 67, 0.3), 0px 1px 3px 1px rgba(60, 64, 67, 0.15);\n",
              "      fill: #174EA6;\n",
              "    }\n",
              "\n",
              "    [theme=dark] .colab-df-convert {\n",
              "      background-color: #3B4455;\n",
              "      fill: #D2E3FC;\n",
              "    }\n",
              "\n",
              "    [theme=dark] .colab-df-convert:hover {\n",
              "      background-color: #434B5C;\n",
              "      box-shadow: 0px 1px 3px 1px rgba(0, 0, 0, 0.15);\n",
              "      filter: drop-shadow(0px 1px 2px rgba(0, 0, 0, 0.3));\n",
              "      fill: #FFFFFF;\n",
              "    }\n",
              "  </style>\n",
              "\n",
              "      <script>\n",
              "        const buttonEl =\n",
              "          document.querySelector('#df-ace27eac-98f4-4161-833c-494a51d36598 button.colab-df-convert');\n",
              "        buttonEl.style.display =\n",
              "          google.colab.kernel.accessAllowed ? 'block' : 'none';\n",
              "\n",
              "        async function convertToInteractive(key) {\n",
              "          const element = document.querySelector('#df-ace27eac-98f4-4161-833c-494a51d36598');\n",
              "          const dataTable =\n",
              "            await google.colab.kernel.invokeFunction('convertToInteractive',\n",
              "                                                     [key], {});\n",
              "          if (!dataTable) return;\n",
              "\n",
              "          const docLinkHtml = 'Like what you see? Visit the ' +\n",
              "            '<a target=\"_blank\" href=https://colab.research.google.com/notebooks/data_table.ipynb>data table notebook</a>'\n",
              "            + ' to learn more about interactive tables.';\n",
              "          element.innerHTML = '';\n",
              "          dataTable['output_type'] = 'display_data';\n",
              "          await google.colab.output.renderOutput(dataTable, element);\n",
              "          const docLink = document.createElement('div');\n",
              "          docLink.innerHTML = docLinkHtml;\n",
              "          element.appendChild(docLink);\n",
              "        }\n",
              "      </script>\n",
              "    </div>\n",
              "  </div>\n",
              "  "
            ],
            "text/plain": [
              "       ResponseId  ...                     Ethnicity\n",
              "0               1  ...  White or of European descent\n",
              "1               2  ...  White or of European descent\n",
              "2               3  ...             Prefer not to say\n",
              "3               4  ...  White or of European descent\n",
              "4               5  ...  White or of European descent\n",
              "...           ...  ...                           ...\n",
              "65643       65644  ...             Prefer not to say\n",
              "65644       65645  ...                   South Asian\n",
              "65645       65646  ...  White or of European descent\n",
              "65646       65647  ...             Prefer not to say\n",
              "65647       65648  ...                           NaN\n",
              "\n",
              "[65648 rows x 22 columns]"
            ]
          },
          "metadata": {},
          "execution_count": 231
        }
      ]
    },
    {
      "cell_type": "code",
      "source": [
        ""
      ],
      "metadata": {
        "id": "EflTninRrfiR"
      },
      "execution_count": null,
      "outputs": []
    },
    {
      "cell_type": "code",
      "source": [
        ""
      ],
      "metadata": {
        "id": "J32SRGauiat6"
      },
      "execution_count": null,
      "outputs": []
    }
  ]
}